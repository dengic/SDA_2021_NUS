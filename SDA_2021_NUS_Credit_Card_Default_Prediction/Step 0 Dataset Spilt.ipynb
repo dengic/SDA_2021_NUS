{
 "cells": [
  {
   "cell_type": "code",
   "execution_count": 1,
   "metadata": {},
   "outputs": [],
   "source": [
    "# import packages\n",
    "import pandas as pd\n",
    "from sklearn.model_selection import train_test_split"
   ]
  },
  {
   "cell_type": "code",
   "execution_count": 2,
   "metadata": {},
   "outputs": [],
   "source": [
    "# load data\n",
    "df_train_label = pd.read_csv('train_label.csv')\n",
    "df_train_base = pd.read_csv('train_base.csv')\n",
    "df_train_trans = pd.read_csv('train_trans.csv')\n",
    "df_train_op = pd.read_csv('train_op.csv')"
   ]
  },
  {
   "cell_type": "code",
   "execution_count": 3,
   "metadata": {},
   "outputs": [],
   "source": [
    "data = pd.merge(df_train_label, df_train_base)"
   ]
  },
  {
   "cell_type": "code",
   "execution_count": 4,
   "metadata": {},
   "outputs": [
    {
     "name": "stdout",
     "output_type": "stream",
     "text": [
      "(38225, 47)\n",
      "(9557, 47)\n"
     ]
    }
   ],
   "source": [
    "# random split the dataset into training set and test set\n",
    "train_set, test_set = train_test_split(data, test_size=0.2, random_state=623)\n",
    "print(train_set.shape)\n",
    "print(test_set.shape)"
   ]
  },
  {
   "cell_type": "code",
   "execution_count": 5,
   "metadata": {},
   "outputs": [],
   "source": [
    "train_id = train_set['user']\n",
    "test_id = test_set['user']\n",
    "\n",
    "# use the random id to slice the orginal dataset\n",
    "train_base = df_train_base[df_train_base['user'].isin(train_id.tolist())]\n",
    "test_base = df_train_base[df_train_base['user'].isin(test_id.tolist())]\n",
    "\n",
    "train_label = df_train_label[df_train_label['user'].isin(train_id.tolist())]\n",
    "test_label = df_train_label[df_train_label['user'].isin(test_id.tolist())]\n",
    "\n",
    "train_trans = df_train_trans[df_train_trans['user'].isin(train_id.tolist())]\n",
    "test_trans = df_train_trans[df_train_trans['user'].isin(test_id.tolist())]\n",
    "\n",
    "train_op = df_train_op[df_train_op['user'].isin(train_id.tolist())]\n",
    "test_op = df_train_op[df_train_op['user'].isin(test_id.tolist())]"
   ]
  },
  {
   "cell_type": "code",
   "execution_count": 6,
   "metadata": {},
   "outputs": [],
   "source": [
    "train_base.to_csv('train_base_new.csv')\n",
    "train_label.to_csv('train_label_new.csv')\n",
    "train_trans.to_csv('train_trans_new.csv')\n",
    "train_op.to_csv('train_op_new.csv')\n",
    "\n",
    "test_base.to_csv('test_base_new.csv')\n",
    "test_label.to_csv('test_label_new.csv')\n",
    "test_trans.to_csv('test_trans_new.csv')\n",
    "test_op.to_csv('test_op_new.csv')"
   ]
  },
  {
   "cell_type": "code",
   "execution_count": null,
   "metadata": {},
   "outputs": [],
   "source": []
  }
 ],
 "metadata": {
  "kernelspec": {
   "display_name": "Python 3",
   "language": "python",
   "name": "python3"
  },
  "language_info": {
   "codemirror_mode": {
    "name": "ipython",
    "version": 3
   },
   "file_extension": ".py",
   "mimetype": "text/x-python",
   "name": "python",
   "nbconvert_exporter": "python",
   "pygments_lexer": "ipython3",
   "version": "3.8.5"
  }
 },
 "nbformat": 4,
 "nbformat_minor": 4
}
