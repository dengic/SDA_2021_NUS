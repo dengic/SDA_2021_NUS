{
 "cells": [
  {
   "cell_type": "code",
   "execution_count": 22,
   "metadata": {},
   "outputs": [],
   "source": [
    "import lightgbm as lgb\n",
    "from sklearn.model_selection import StratifiedKFold, KFold\n",
    "from sklearn.metrics import roc_auc_score, roc_curve,auc\n",
    "import warnings\n",
    "from sklearn.preprocessing import LabelEncoder\n",
    "import pandas as pd\n",
    "import gc\n",
    "import os\n",
    "import matplotlib.pyplot as plt\n",
    "import seaborn as sns\n",
    "warnings.simplefilter(action='ignore', category=FutureWarning)\n",
    "import numpy as np\n",
    "from sklearn.model_selection import train_test_split\n",
    "from sklearn.metrics import f1_score,precision_score,recall_score,roc_auc_score,accuracy_score,roc_curve\n",
    "\n",
    "seed = 623\n",
    "plt.style.use('ggplot')"
   ]
  },
  {
   "cell_type": "code",
   "execution_count": 23,
   "metadata": {},
   "outputs": [
    {
     "name": "stderr",
     "output_type": "stream",
     "text": [
      "E:\\Anaconda\\lib\\site-packages\\IPython\\core\\interactiveshell.py:3146: DtypeWarning: Columns (2659,2672,2685,2698,2711,2724,2737,2750,2763,2776,2789) have mixed types.Specify dtype option on import or set low_memory=False.\n",
      "  has_raised = await self.run_ast_nodes(code_ast.body, cell_name,\n"
     ]
    }
   ],
   "source": [
    "# data是原始数据大表，包含所有特征\n",
    "data1 = pd.read_csv('data_1.csv', index_col=0)\n",
    "data2 = pd.read_csv('data_2.csv', index_col=0)\n",
    "data = pd.merge(data1, data2, on='user')"
   ]
  },
  {
   "cell_type": "code",
   "execution_count": 24,
   "metadata": {},
   "outputs": [],
   "source": [
    "data.rename(columns = {'label_x':'label'}, inplace = True)\n",
    "del data['label_y']"
   ]
  },
  {
   "cell_type": "code",
   "execution_count": 25,
   "metadata": {
    "scrolled": true
   },
   "outputs": [
    {
     "data": {
      "text/plain": [
       "((38225, 5244), (9557, 5244))"
      ]
     },
     "execution_count": 25,
     "metadata": {},
     "output_type": "execute_result"
    }
   ],
   "source": [
    "# 创造一个原始数据的备份，对数据进行操作\n",
    "df = data.copy()\n",
    "\n",
    "df_train = df[~df['label'].isnull()].copy()\n",
    "df_test = df[df['label'].isnull()].copy()\n",
    "\n",
    "df_train.shape, df_test.shape"
   ]
  },
  {
   "cell_type": "code",
   "execution_count": 26,
   "metadata": {
    "scrolled": false
   },
   "outputs": [],
   "source": [
    "# data.info()"
   ]
  },
  {
   "cell_type": "code",
   "execution_count": 27,
   "metadata": {},
   "outputs": [],
   "source": [
    "sample = df_train.sample(frac=0.1, random_state=623)\n",
    "train_labels = sample.label\n",
    "train_features = sample.drop(columns='label')\n",
    "\n",
    "from feature_selector import FeatureSelector\n",
    "fs = FeatureSelector(data=train_features, labels=train_labels)"
   ]
  },
  {
   "cell_type": "code",
   "execution_count": 28,
   "metadata": {
    "scrolled": true
   },
   "outputs": [
    {
     "name": "stdout",
     "output_type": "stream",
     "text": [
      "164 features with greater than 0.60 missing values.\n",
      "\n",
      "653 features with a single unique value.\n",
      "\n",
      "3213 features with a correlation magnitude greater than 0.90.\n",
      "\n",
      "Training Gradient Boosting Model\n",
      "\n",
      "Training until validation scores don't improve for 100 rounds\n",
      "Early stopping, best iteration is:\n",
      "[34]\tvalid_0's auc: 0.654865\tvalid_0's binary_logloss: 0.51639\n",
      "Training until validation scores don't improve for 100 rounds\n",
      "Early stopping, best iteration is:\n",
      "[52]\tvalid_0's auc: 0.727404\tvalid_0's binary_logloss: 0.489993\n",
      "Training until validation scores don't improve for 100 rounds\n",
      "Early stopping, best iteration is:\n",
      "[38]\tvalid_0's auc: 0.69403\tvalid_0's binary_logloss: 0.506796\n",
      "Training until validation scores don't improve for 100 rounds\n",
      "Early stopping, best iteration is:\n",
      "[40]\tvalid_0's auc: 0.696767\tvalid_0's binary_logloss: 0.498656\n",
      "Training until validation scores don't improve for 100 rounds\n",
      "Early stopping, best iteration is:\n",
      "[16]\tvalid_0's auc: 0.701056\tvalid_0's binary_logloss: 0.511525\n",
      "Training until validation scores don't improve for 100 rounds\n",
      "Early stopping, best iteration is:\n",
      "[57]\tvalid_0's auc: 0.691143\tvalid_0's binary_logloss: 0.502837\n",
      "Training until validation scores don't improve for 100 rounds\n",
      "Early stopping, best iteration is:\n",
      "[45]\tvalid_0's auc: 0.713974\tvalid_0's binary_logloss: 0.494636\n",
      "Training until validation scores don't improve for 100 rounds\n",
      "Early stopping, best iteration is:\n",
      "[58]\tvalid_0's auc: 0.720739\tvalid_0's binary_logloss: 0.492615\n",
      "Training until validation scores don't improve for 100 rounds\n",
      "Early stopping, best iteration is:\n",
      "[80]\tvalid_0's auc: 0.738249\tvalid_0's binary_logloss: 0.480542\n",
      "Training until validation scores don't improve for 100 rounds\n",
      "Early stopping, best iteration is:\n",
      "[37]\tvalid_0's auc: 0.660942\tvalid_0's binary_logloss: 0.517328\n",
      "\n",
      "33255 features with zero importance after one-hot encoding.\n",
      "\n",
      "1258 features required for cumulative importance of 0.99 after one hot encoding.\n",
      "33393 features do not contribute to cumulative importance of 0.99.\n",
      "\n",
      "34187 total features out of 34977 identified for removal after one-hot encoding.\n",
      "\n"
     ]
    }
   ],
   "source": [
    "fs.identify_all(selection_params = {'missing_threshold': 0.6,    \n",
    "                                    'correlation_threshold': 0.9, \n",
    "                                    'task': 'classification',    \n",
    "                                    'eval_metric': 'auc', \n",
    "                                    'cumulative_importance': 0.99})"
   ]
  },
  {
   "cell_type": "code",
   "execution_count": 29,
   "metadata": {},
   "outputs": [
    {
     "name": "stdout",
     "output_type": "stream",
     "text": [
      "['missing', 'single_unique', 'collinear', 'zero_importance', 'low_importance'] methods have been run\n",
      "\n",
      "Removed 34232 features including one-hot features.\n"
     ]
    }
   ],
   "source": [
    "train_removed = fs.remove(methods = 'all', keep_one_hot=False)"
   ]
  },
  {
   "cell_type": "code",
   "execution_count": 30,
   "metadata": {},
   "outputs": [
    {
     "data": {
      "text/plain": [
       "((38225, 746), (9557, 746))"
      ]
     },
     "execution_count": 30,
     "metadata": {},
     "output_type": "execute_result"
    }
   ],
   "source": [
    "good_cols = train_removed.columns.tolist()\n",
    "df_train_clear = df_train[good_cols]\n",
    "df_test_clear = df_test[good_cols]\n",
    "\n",
    "df_train_clear.insert(loc=0, column='label', value=df_train.label)\n",
    "df_test_clear.insert(loc=0, column='label', value=df_test.label)\n",
    "\n",
    "df_train_clear.shape, df_test_clear.shape"
   ]
  },
  {
   "cell_type": "code",
   "execution_count": 31,
   "metadata": {},
   "outputs": [
    {
     "data": {
      "text/html": [
       "<div>\n",
       "<style scoped>\n",
       "    .dataframe tbody tr th:only-of-type {\n",
       "        vertical-align: middle;\n",
       "    }\n",
       "\n",
       "    .dataframe tbody tr th {\n",
       "        vertical-align: top;\n",
       "    }\n",
       "\n",
       "    .dataframe thead th {\n",
       "        text-align: right;\n",
       "    }\n",
       "</style>\n",
       "<table border=\"1\" class=\"dataframe\">\n",
       "  <thead>\n",
       "    <tr style=\"text-align: right;\">\n",
       "      <th></th>\n",
       "      <th>user</th>\n",
       "      <th>label</th>\n",
       "      <th>login_cnt_period1_x</th>\n",
       "      <th>province_x</th>\n",
       "      <th>city_x</th>\n",
       "      <th>sex_sex_x</th>\n",
       "      <th>sex_provider_x</th>\n",
       "      <th>sex_level_x</th>\n",
       "      <th>sex_verified_x</th>\n",
       "      <th>sex_regist_type_x</th>\n",
       "      <th>...</th>\n",
       "      <th>city_op2_cnt_mean</th>\n",
       "      <th>city_service1_cnt_mean</th>\n",
       "      <th>city_service1_amt_mean</th>\n",
       "      <th>city_agreement_total_mean</th>\n",
       "      <th>city_login_cnt_avg_mean</th>\n",
       "      <th>city_balance_avg_mean</th>\n",
       "      <th>city_balance2_mean</th>\n",
       "      <th>city_product1_amount_mean</th>\n",
       "      <th>city_product3_amount_mean</th>\n",
       "      <th>city_product7_cnt_mean</th>\n",
       "    </tr>\n",
       "  </thead>\n",
       "  <tbody>\n",
       "    <tr>\n",
       "      <th>0</th>\n",
       "      <td>Train_00000</td>\n",
       "      <td>0.0</td>\n",
       "      <td>0.002782</td>\n",
       "      <td>17</td>\n",
       "      <td>45</td>\n",
       "      <td>category 0_category 0</td>\n",
       "      <td>category 0_category 0</td>\n",
       "      <td>category 0_category 1</td>\n",
       "      <td>category 0_category 0</td>\n",
       "      <td>category 0_category 1</td>\n",
       "      <td>...</td>\n",
       "      <td>0.023251</td>\n",
       "      <td>0.000873</td>\n",
       "      <td>0.000930</td>\n",
       "      <td>0.329782</td>\n",
       "      <td>0.024373</td>\n",
       "      <td>0.456977</td>\n",
       "      <td>0.394828</td>\n",
       "      <td>0.091954</td>\n",
       "      <td>0.086207</td>\n",
       "      <td>0.050836</td>\n",
       "    </tr>\n",
       "    <tr>\n",
       "      <th>1</th>\n",
       "      <td>Train_00001</td>\n",
       "      <td>1.0</td>\n",
       "      <td>0.006121</td>\n",
       "      <td>12</td>\n",
       "      <td>204</td>\n",
       "      <td>category 0_category 0</td>\n",
       "      <td>category 0_category 0</td>\n",
       "      <td>category 0_category 2</td>\n",
       "      <td>category 0_category 0</td>\n",
       "      <td>category 0_category 1</td>\n",
       "      <td>...</td>\n",
       "      <td>0.022878</td>\n",
       "      <td>0.000984</td>\n",
       "      <td>0.000758</td>\n",
       "      <td>0.316146</td>\n",
       "      <td>0.023442</td>\n",
       "      <td>0.435602</td>\n",
       "      <td>0.382383</td>\n",
       "      <td>0.064767</td>\n",
       "      <td>0.016839</td>\n",
       "      <td>0.060533</td>\n",
       "    </tr>\n",
       "    <tr>\n",
       "      <th>2</th>\n",
       "      <td>Train_00002</td>\n",
       "      <td>0.0</td>\n",
       "      <td>0.015597</td>\n",
       "      <td>5</td>\n",
       "      <td>331</td>\n",
       "      <td>category 0_category 0</td>\n",
       "      <td>category 0_category 0</td>\n",
       "      <td>category 0_category 2</td>\n",
       "      <td>category 0_category 0</td>\n",
       "      <td>category 0_category 7</td>\n",
       "      <td>...</td>\n",
       "      <td>0.023444</td>\n",
       "      <td>0.002224</td>\n",
       "      <td>0.001742</td>\n",
       "      <td>0.363854</td>\n",
       "      <td>0.020695</td>\n",
       "      <td>0.455987</td>\n",
       "      <td>0.341534</td>\n",
       "      <td>0.095847</td>\n",
       "      <td>0.102236</td>\n",
       "      <td>0.055430</td>\n",
       "    </tr>\n",
       "    <tr>\n",
       "      <th>3</th>\n",
       "      <td>Train_00005</td>\n",
       "      <td>0.0</td>\n",
       "      <td>0.011220</td>\n",
       "      <td>21</td>\n",
       "      <td>326</td>\n",
       "      <td>category 0_category 0</td>\n",
       "      <td>category 0_category 0</td>\n",
       "      <td>category 0_category 2</td>\n",
       "      <td>category 0_category 0</td>\n",
       "      <td>category 0_category 1</td>\n",
       "      <td>...</td>\n",
       "      <td>0.023927</td>\n",
       "      <td>0.003038</td>\n",
       "      <td>0.002174</td>\n",
       "      <td>0.337236</td>\n",
       "      <td>0.025890</td>\n",
       "      <td>0.474667</td>\n",
       "      <td>0.403333</td>\n",
       "      <td>0.066667</td>\n",
       "      <td>0.026667</td>\n",
       "      <td>0.056911</td>\n",
       "    </tr>\n",
       "    <tr>\n",
       "      <th>4</th>\n",
       "      <td>Train_00006</td>\n",
       "      <td>0.0</td>\n",
       "      <td>0.087933</td>\n",
       "      <td>13</td>\n",
       "      <td>106</td>\n",
       "      <td>category 0_category 0</td>\n",
       "      <td>category 0_category 0</td>\n",
       "      <td>category 0_category 2</td>\n",
       "      <td>category 0_category 0</td>\n",
       "      <td>category 0_category 7</td>\n",
       "      <td>...</td>\n",
       "      <td>0.024291</td>\n",
       "      <td>0.004410</td>\n",
       "      <td>0.006652</td>\n",
       "      <td>0.354192</td>\n",
       "      <td>0.020660</td>\n",
       "      <td>0.527459</td>\n",
       "      <td>0.434631</td>\n",
       "      <td>0.081967</td>\n",
       "      <td>0.024590</td>\n",
       "      <td>0.057943</td>\n",
       "    </tr>\n",
       "  </tbody>\n",
       "</table>\n",
       "<p>5 rows × 747 columns</p>\n",
       "</div>"
      ],
      "text/plain": [
       "          user  label  login_cnt_period1_x  province_x  city_x  \\\n",
       "0  Train_00000    0.0             0.002782          17      45   \n",
       "1  Train_00001    1.0             0.006121          12     204   \n",
       "2  Train_00002    0.0             0.015597           5     331   \n",
       "3  Train_00005    0.0             0.011220          21     326   \n",
       "4  Train_00006    0.0             0.087933          13     106   \n",
       "\n",
       "               sex_sex_x         sex_provider_x            sex_level_x  \\\n",
       "0  category 0_category 0  category 0_category 0  category 0_category 1   \n",
       "1  category 0_category 0  category 0_category 0  category 0_category 2   \n",
       "2  category 0_category 0  category 0_category 0  category 0_category 2   \n",
       "3  category 0_category 0  category 0_category 0  category 0_category 2   \n",
       "4  category 0_category 0  category 0_category 0  category 0_category 2   \n",
       "\n",
       "          sex_verified_x      sex_regist_type_x  ... city_op2_cnt_mean  \\\n",
       "0  category 0_category 0  category 0_category 1  ...          0.023251   \n",
       "1  category 0_category 0  category 0_category 1  ...          0.022878   \n",
       "2  category 0_category 0  category 0_category 7  ...          0.023444   \n",
       "3  category 0_category 0  category 0_category 1  ...          0.023927   \n",
       "4  category 0_category 0  category 0_category 7  ...          0.024291   \n",
       "\n",
       "  city_service1_cnt_mean city_service1_amt_mean city_agreement_total_mean  \\\n",
       "0               0.000873               0.000930                  0.329782   \n",
       "1               0.000984               0.000758                  0.316146   \n",
       "2               0.002224               0.001742                  0.363854   \n",
       "3               0.003038               0.002174                  0.337236   \n",
       "4               0.004410               0.006652                  0.354192   \n",
       "\n",
       "  city_login_cnt_avg_mean city_balance_avg_mean city_balance2_mean  \\\n",
       "0                0.024373              0.456977           0.394828   \n",
       "1                0.023442              0.435602           0.382383   \n",
       "2                0.020695              0.455987           0.341534   \n",
       "3                0.025890              0.474667           0.403333   \n",
       "4                0.020660              0.527459           0.434631   \n",
       "\n",
       "  city_product1_amount_mean city_product3_amount_mean city_product7_cnt_mean  \n",
       "0                  0.091954                  0.086207               0.050836  \n",
       "1                  0.064767                  0.016839               0.060533  \n",
       "2                  0.095847                  0.102236               0.055430  \n",
       "3                  0.066667                  0.026667               0.056911  \n",
       "4                  0.081967                  0.024590               0.057943  \n",
       "\n",
       "[5 rows x 747 columns]"
      ]
     },
     "execution_count": 31,
     "metadata": {},
     "output_type": "execute_result"
    }
   ],
   "source": [
    "df_clear = pd.concat([df_train_clear, df_test_clear], axis=0)\n",
    "# df_clear['user'] = df.index\n",
    "df_clear.reset_index(level=0, inplace=True)\n",
    "df_clear.head()"
   ]
  },
  {
   "cell_type": "code",
   "execution_count": 32,
   "metadata": {},
   "outputs": [
    {
     "data": {
      "text/plain": [
       "(47782, 747)"
      ]
     },
     "execution_count": 32,
     "metadata": {},
     "output_type": "execute_result"
    }
   ],
   "source": [
    "df_clear.shape"
   ]
  },
  {
   "cell_type": "code",
   "execution_count": 33,
   "metadata": {},
   "outputs": [],
   "source": [
    "df_clear.to_csv('data_clear.csv')"
   ]
  }
 ],
 "metadata": {
  "kernelspec": {
   "display_name": "Python 3",
   "language": "python",
   "name": "python3"
  },
  "language_info": {
   "codemirror_mode": {
    "name": "ipython",
    "version": 3
   },
   "file_extension": ".py",
   "mimetype": "text/x-python",
   "name": "python",
   "nbconvert_exporter": "python",
   "pygments_lexer": "ipython3",
   "version": "3.8.5"
  }
 },
 "nbformat": 4,
 "nbformat_minor": 4
}
